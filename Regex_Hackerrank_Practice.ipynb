{
  "cells": [
    {
      "cell_type": "markdown",
      "metadata": {
        "id": "gRngDORNGdCR"
      },
      "source": [
        "## <center><u>Regular Expression</u></center>\n",
        "\n",
        "\n",
        "Regular Expression – better known as Regex – is pattern matching. As regular expressions are regular, it means they are used to match well-defined patterns. Regular expression or pattern matching tools identify words and phrases with common patterns.  A typical use case for Regex is find and replace, however as it is not able to understand syntax, grammar, or context, Regex solutions tend to operate on a very small well-defined problem set. Basically, Regex solutions are using pattern matching to merely identify similarities and differences in patterns of words and phrases. They are not able to identify words and phrases taking into consideration syntax, grammar and ultimately context.\n",
        "\n",
        "\n",
        "You will be facing some challenging questions on Regex in this assignment. Below following steps would help you to complete this assignment:\n",
        "\n",
        "`1. Read the question\n",
        "2. Go to the link given under the question\n",
        "3. You will land on Hakerrank page, if not then create your Hakerrank account.\n",
        "4. Once you land on hankerank page mentioned under question, go through the given problem carefully.\n",
        "5. Solve it in the editor given in the page. Select python3 as your language in the editor and click 'Run Code' Button\n",
        "6. Once you have passed all the sample test cases, write your solution in this assignment against each question.`\n",
        "\n",
        "\n",
        "If you need any assistence on Regex, then please refer below links:\n",
        "\n",
        "YouTube reference: https://www.youtube.com/watch?v=zN8rwVXwRUE\n",
        "\n",
        "Regex doc: https://docs.python.org/3/howto/regex.html\n",
        "\n",
        "\n"
      ]
    },
    {
      "cell_type": "markdown",
      "metadata": {
        "id": "VbNnLWPpGdCg"
      },
      "source": [
        "#### Q1. Matching string problem\n"
      ]
    },
    {
      "cell_type": "code",
      "source": [
        "Regex_Pattern = r'hackerrank'\t# Do not delete 'r'.\n",
        "\n",
        "import re\n",
        "\n",
        "Test_String = input()\n",
        "\n",
        "match = re.findall(Regex_Pattern, Test_String)\n",
        "\n",
        "print(\"Number of matches :\", len(match))"
      ],
      "metadata": {
        "colab": {
          "base_uri": "https://localhost:8080/"
        },
        "id": "CgNc8ZY8RS6r",
        "outputId": "97b97142-0b6c-47e0-b78e-734c84ae3bfc"
      },
      "execution_count": null,
      "outputs": [
        {
          "output_type": "stream",
          "name": "stdout",
          "text": [
            "hackerrank is online platform to code.hackerrank is best.u should also try hackerrank\n",
            "Number of matches : 3\n"
          ]
        }
      ]
    },
    {
      "cell_type": "markdown",
      "metadata": {
        "id": "I8RDmbWRGdCh"
      },
      "source": [
        "#### Q2 Matching anything\n",
        "\n"
      ]
    },
    {
      "cell_type": "code",
      "source": [
        "regex_pattern = r\"^...\\....\\....\\....$\"\t# Do not delete 'r'.\n",
        "\n",
        "import re\n",
        "import sys\n",
        "\n",
        "test_string = input()\n",
        "\n",
        "match = re.match(regex_pattern, test_string) is not None\n",
        "\n",
        "print(str(match).lower())"
      ],
      "metadata": {
        "colab": {
          "base_uri": "https://localhost:8080/"
        },
        "id": "ZEXfLLNYWSeY",
        "outputId": "951b96c6-0708-4cfd-8dbb-193b7009b304"
      },
      "execution_count": null,
      "outputs": [
        {
          "output_type": "stream",
          "name": "stdout",
          "text": [
            "abc.bba.jjd.125\n",
            "true\n"
          ]
        }
      ]
    },
    {
      "cell_type": "markdown",
      "metadata": {
        "id": "DNNh0RF7GdCi"
      },
      "source": [
        "#### Q3 Matching non digit character\n"
      ]
    },
    {
      "cell_type": "code",
      "source": [
        "Regex_Pattern = r\"\\d\\d\\D\\d\\d\\D\\d\\d\\d\\d\"\t# Do not delete 'r'.\n",
        "\n",
        "import re\n",
        "\n",
        "print(str(bool(re.search(Regex_Pattern, input()))).lower())"
      ],
      "metadata": {
        "colab": {
          "base_uri": "https://localhost:8080/"
        },
        "id": "FivWoYE4ZLb2",
        "outputId": "a1acc828-94d4-42b3-e076-6185bfbbaa31"
      },
      "execution_count": null,
      "outputs": [
        {
          "output_type": "stream",
          "name": "stdout",
          "text": [
            "12o12o1222\n",
            "true\n"
          ]
        }
      ]
    },
    {
      "cell_type": "code",
      "source": [
        "Regex_Pattern = r\"\\d{2}\\D\\d{2}\\D\\d{4}\"\t# Do not delete 'r'.\n",
        "\n",
        "import re\n",
        "\n",
        "print(str(bool(re.search(Regex_Pattern, input()))).lower())"
      ],
      "metadata": {
        "colab": {
          "base_uri": "https://localhost:8080/"
        },
        "id": "gc7RXXYiZMcU",
        "outputId": "fac03872-e026-4bf7-9976-4cd4deeadb39"
      },
      "execution_count": null,
      "outputs": [
        {
          "output_type": "stream",
          "name": "stdout",
          "text": [
            "12p12p1222\n",
            "true\n"
          ]
        }
      ]
    },
    {
      "cell_type": "markdown",
      "metadata": {
        "id": "r0a0QiowGdCj"
      },
      "source": [
        "#### Q4 matching whitespace - non whitespace\n",
        "\n"
      ]
    },
    {
      "cell_type": "code",
      "source": [
        "Regex_Pattern = r\"\\S{2}\\s\\S{2}\\s\\S{2}\"\t# Do not delete 'r'.\n",
        "\n",
        "import re\n",
        "\n",
        "print(str(bool(re.search(Regex_Pattern, input()))).lower())"
      ],
      "metadata": {
        "colab": {
          "base_uri": "https://localhost:8080/"
        },
        "id": "i3NROioXZ7bf",
        "outputId": "fbfcf017-7b20-4f1e-9190-ed48a8c5b0db"
      },
      "execution_count": null,
      "outputs": [
        {
          "output_type": "stream",
          "name": "stdout",
          "text": [
            "12 20 22\n",
            "true\n"
          ]
        }
      ]
    },
    {
      "cell_type": "markdown",
      "metadata": {
        "id": "8G3V2j8zGdCk"
      },
      "source": [
        "#### Q5 matching start end problem\n"
      ]
    },
    {
      "cell_type": "code",
      "source": [
        "Regex_Pattern = r\"^\\d\\w{4}\\.$\"\t# Do not delete 'r'.\n",
        "\n",
        "import re\n",
        "\n",
        "print(str(bool(re.search(Regex_Pattern, input()))).lower())"
      ],
      "metadata": {
        "colab": {
          "base_uri": "https://localhost:8080/"
        },
        "id": "1fEerGwDa7uh",
        "outputId": "1ddce8be-a217-42fa-d0ce-8390966f1822"
      },
      "execution_count": null,
      "outputs": [
        {
          "output_type": "stream",
          "name": "stdout",
          "text": [
            "2omka.\n",
            "true\n"
          ]
        }
      ]
    },
    {
      "cell_type": "markdown",
      "metadata": {
        "id": "S1KNcHNcGdCk"
      },
      "source": [
        "#### Q6 negative lookbehind"
      ]
    },
    {
      "cell_type": "code",
      "source": [
        "Regex_Pattern = r\"(?<![aeiuoAEIOU]).\"\t# Do not delete 'r'.\n",
        "\n",
        "import re\n",
        "\n",
        "Test_String = input()\n",
        "\n",
        "match = re.findall(Regex_Pattern, Test_String)\n",
        "\n",
        "print(\"Number of matches :\", len(match))\n"
      ],
      "metadata": {
        "colab": {
          "base_uri": "https://localhost:8080/"
        },
        "id": "ldulZDkgcO1C",
        "outputId": "a5722bbe-7deb-4130-a05e-58c8f9704cb0"
      },
      "execution_count": null,
      "outputs": [
        {
          "output_type": "stream",
          "name": "stdout",
          "text": [
            "lole\n",
            "Number of matches : 3\n"
          ]
        }
      ]
    },
    {
      "cell_type": "markdown",
      "metadata": {
        "id": "09IKcIBFGdCl"
      },
      "source": [
        "#### Q7 Html attribute problem\n",
        "\n"
      ]
    },
    {
      "cell_type": "code",
      "source": [
        "import sys\n",
        "import re\n",
        "from collections import defaultdict\n",
        "pattern_tag = r\"<(\\w+)([^>]*)>\"\n",
        "pattern_attr = r'(\\w+)(?==[\"\\'][^\"\\']*[\"\\'])'\n",
        "text = sys.stdin.read()\n",
        "tags = re.finditer(pattern_tag, text)\n",
        "maps = defaultdict(list)\n",
        "for tag in tags:\n",
        "    tag_name = tag.group(1)\n",
        "    attrs = re.findall(pattern_attr, tag.group(2))\n",
        "    maps[tag_name].extend(attrs)\n",
        "for key in sorted(maps.keys()):\n",
        "    print(f\"{key}:{','.join(sorted(list(set(maps[key]))))}\")"
      ],
      "metadata": {
        "id": "61B-Gh9wdzti"
      },
      "execution_count": null,
      "outputs": []
    },
    {
      "cell_type": "raw",
      "metadata": {
        "id": "N5rp5wJzGdCl"
      },
      "source": [
        "\n",
        "\n",
        "\n",
        "\n",
        "\n",
        "\n",
        "\n",
        "\n"
      ]
    },
    {
      "cell_type": "markdown",
      "metadata": {
        "id": "J9WsOxlhGdCl"
      },
      "source": [
        "#### Q8 detect html tags\n",
        "\n"
      ]
    },
    {
      "cell_type": "code",
      "source": [
        "import sys, re\n",
        "\n",
        "input()\n",
        "html = sys.stdin.read()\n",
        "tags =  set(re.findall(\"<\\s*([a-z0-9]+)\", html))\n",
        "tags = list(tags)\n",
        "tags.sort()\n",
        "print(\";\".join(tags))"
      ],
      "metadata": {
        "colab": {
          "base_uri": "https://localhost:8080/"
        },
        "id": "YHrEdNaDetnv",
        "outputId": "928c9af4-593d-4a5e-e171-01c9b49f95fe"
      },
      "execution_count": null,
      "outputs": [
        {
          "output_type": "stream",
          "name": "stdout",
          "text": [
            "\n",
            "\n"
          ]
        }
      ]
    },
    {
      "cell_type": "markdown",
      "metadata": {
        "id": "6dly0EFvGdCm"
      },
      "source": [
        "#### Q9 final substring problem"
      ]
    },
    {
      "cell_type": "code",
      "source": [
        "# Enter your code here. Read input from STDIN. Print output to STDOUT\n",
        "import re\n",
        "\n",
        "sentences = []\n",
        "words = []\n",
        "\n",
        "no_of_sentences = int(input())\n",
        "\n",
        "for i in range(no_of_sentences):\n",
        "    sentences.append(input())\n",
        "\n",
        "no_of_words = int(input())\n",
        "\n",
        "for i in range(no_of_words):\n",
        "    words.append(input())\n",
        "\n",
        "for word in words:\n",
        "    print(len(re.findall(\"[\\w]+%s[\\w]+\"%word, \"\\n\".join(sentences))))"
      ],
      "metadata": {
        "colab": {
          "base_uri": "https://localhost:8080/"
        },
        "id": "lbOJm8dZq7nm",
        "outputId": "0340bb3e-a2ba-4c3f-cddd-2c93e6a4625e"
      },
      "execution_count": null,
      "outputs": [
        {
          "output_type": "stream",
          "name": "stdout",
          "text": [
            "1\n",
            "existing pessimist optimist this is\n",
            "1\n",
            "is\n",
            "3\n"
          ]
        }
      ]
    },
    {
      "cell_type": "markdown",
      "metadata": {
        "id": "1mxpGjH1GdCn"
      },
      "source": [
        "#### Q 10 Alien username\n"
      ]
    },
    {
      "cell_type": "code",
      "source": [
        "import re\n",
        "\n",
        "\n",
        "def validate_usernames(usernames):\n",
        "    \"\"\"Prints 'VALID' for valid usernames, 'INVALID' otherwise.\"\"\"\n",
        "    pattern = re.compile('^[_\\.]\\d+[a-z]*_?$', re.IGNORECASE)\n",
        "\n",
        "    for username in usernames:\n",
        "        print('VALID' if pattern.match(username) else 'INVALID')\n",
        "\n",
        "\n",
        "if __name__ == '__main__':\n",
        "    username_count = int(input())\n",
        "    usernames = (input() for _ in range(username_count))\n",
        "    validate_usernames(usernames)"
      ],
      "metadata": {
        "colab": {
          "base_uri": "https://localhost:8080/"
        },
        "id": "jh2wjoiar3JV",
        "outputId": "62925dc9-e98d-4853-9af5-fc1c7c6da8df"
      },
      "execution_count": null,
      "outputs": [
        {
          "output_type": "stream",
          "name": "stdout",
          "text": [
            "3\n",
            "_00qkfnv1349u59_\n",
            "INVALID\n",
            "_abskdnjnldnckln\n",
            "INVALID\n",
            "_0928837465656_\n",
            "VALID\n"
          ]
        }
      ]
    },
    {
      "cell_type": "markdown",
      "metadata": {
        "id": "eQ80xPkRGdCo"
      },
      "source": [
        "#### Q11 ip address validation"
      ]
    },
    {
      "cell_type": "code",
      "source": [
        "import sys\n",
        "import re\n",
        "for _ in range(int(input())):\n",
        "    text = input()\n",
        "    v4_pattern = r\"^[0-2]{,1}[0-9]{,2}\\.[0-2]{,1}[0-9]{,2}\\.[0-2]{,1}[0-9]{,2}\\.[0-2]{,1}[0-9]{,2}$\"\n",
        "    v6_pattern = r\"^[a-f0-9]{0,4}:[a-f0-9]{0,4}:[a-f0-9]{0,4}:[a-f0-9]{0,4}:[a-f0-9]{0,4}:[a-f0-9]{0,4}:[a-f0-9]{0,4}:[a-f0-9]{0,4}$\"\n",
        "    result = 'Neither'\n",
        "    if re.search(v4_pattern, text):\n",
        "        result = 'IPv4'\n",
        "    elif re.search(v6_pattern, text):\n",
        "        result = 'IPv6'\n",
        "    print(result)"
      ],
      "metadata": {
        "colab": {
          "base_uri": "https://localhost:8080/"
        },
        "id": "Swzc1gowskX9",
        "outputId": "ad2547af-cae5-4787-e9d1-9c3cfc06eadc"
      },
      "execution_count": null,
      "outputs": [
        {
          "output_type": "stream",
          "name": "stdout",
          "text": [
            "1\n",
            "1050:1000:1000:a000:5:600:300c:326b\n",
            "IPv6\n"
          ]
        }
      ]
    },
    {
      "cell_type": "markdown",
      "metadata": {
        "id": "-DA-MDvVGdCo"
      },
      "source": [
        "\n",
        "#### Q 12 find a word problem\n"
      ]
    },
    {
      "cell_type": "code",
      "source": [
        "import  re\n",
        "\n",
        "sentences= []\n",
        "words= []\n",
        "\n",
        "no_of_sentences = int(input(\"\"))\n",
        "for i in range(no_of_sentences):\n",
        "    sentences.append(input())\n",
        "\n",
        "no_of_words = int(input(\"\"))\n",
        "for i in range(no_of_words):\n",
        "    words.append(input())\n",
        "\n",
        "for word in words:\n",
        "    print(re.findall(\"\\w+\", \"\\n\".join(sentences)).count(word))"
      ],
      "metadata": {
        "colab": {
          "base_uri": "https://localhost:8080/"
        },
        "id": "7StQynVXzjBJ",
        "outputId": "63bba27c-bdeb-4de2-f4da-fa68a747853d"
      },
      "execution_count": null,
      "outputs": [
        {
          "output_type": "stream",
          "name": "stdout",
          "text": [
            "1\n",
            "foo bar (foo) bar foo-bar foo_bar foo'bar bar-foo bar, foo.\n",
            "1\n",
            "foo\n",
            "6\n"
          ]
        }
      ]
    },
    {
      "cell_type": "markdown",
      "metadata": {
        "id": "gQ0yQIE3GdCp"
      },
      "source": [
        "#### Q13 detect the email address\n"
      ]
    },
    {
      "cell_type": "code",
      "source": [
        "import re \n",
        "N = int(input()) \n",
        "string = '\\n'.join([input() for _ in range(N)])\n",
        "\n",
        "Regex = r'\\w+[\\w.]+@[\\w.]+\\w+' \n",
        "email = ' , '.join(sorted(set(re.findall(Regex, string))))\n",
        "print(email)"
      ],
      "metadata": {
        "colab": {
          "base_uri": "https://localhost:8080/"
        },
        "id": "zt-EPUUp1BjB",
        "outputId": "e17d5fba-0742-4644-a7c6-55a371be7966"
      },
      "execution_count": null,
      "outputs": [
        {
          "output_type": "stream",
          "name": "stdout",
          "text": [
            "2\n",
            "For all your queries, on any of our services in any branch in India, you can now SMS ���help��� or call +91 9842 461 461. TMB���s Customer Care team is at your service (10:00am to 5:30pm) & will address your concerns immediately. You can also email us at: customerservice@tnmbonline.com\n",
            "Non Resident Indians / Persons of Indian Origin can write to us for priority response to this separate email id for any queries, questions and banking solutions. Email: nricell@tnmbonline.com\n",
            "customerservice@tnmbonline.com , nricell@tnmbonline.com\n"
          ]
        }
      ]
    },
    {
      "cell_type": "markdown",
      "metadata": {
        "id": "ibRpj7FyGdCp"
      },
      "source": [
        "Q14 detect the domain problem\n"
      ]
    },
    {
      "cell_type": "code",
      "source": [
        "import re\n",
        "\n",
        "ad = []\n",
        "for _ in range(int(input())):\n",
        "    s = input()\n",
        "    a = re.findall(r\"\"\"https?://(?:ww[w2]\\.){0,1}([\\w\\d\\-\\.]*\\.\\w+)[/?\"]\"\"\", s)\n",
        "    ad.extend(a)\n",
        "\n",
        "print(';'.join(sorted(set(ad))))"
      ],
      "metadata": {
        "colab": {
          "base_uri": "https://localhost:8080/"
        },
        "id": "cW2Je1_82WZl",
        "outputId": "33c4f215-60a2-4555-8286-6449df83fbf6"
      },
      "execution_count": null,
      "outputs": [
        {
          "output_type": "stream",
          "name": "stdout",
          "text": [
            "1\n",
            "<!DOCTYPE html PUBLIC \"-//W3C//DTD XHTML 1.0 Transitional//EN\" \"http://www.w3.org/TR/xhtml1/DTD/xhtml1-transitional.dtd\"> <html xmlns=\"http://www.w3.org/1999/xhtml\" lang=\"en\"> <head> <meta http-equiv=\"Content-Type\" content=\"text/html; charset=UTF-8\" /> <meta name=\"format-detection\" content=\"telephone=no\" /> <title>Rediff.com - India, Business, Stock, Sports, Cricket, Entertainment, Bollywood, Music, Video and Breaking news, Rediffmail NG, Shopping</title> <meta name=\"keywords\" content=\"India news, India breaking news, Hindi songs, new songs, listen to music, Live cricket score, sports, Stock market, share value, finance, free mail, web email free, social networking, make friends, free videos, video clip, india shopping, online shopping, news , Music, Cricket, Money, Rediffmail, MyPage, iShare, Shopping, Rediffmail NG\" /> <meta name=\"description\" content=\"Rediff.com - India's leading portal which covers India news, Hindi Movies, Photos, Videos, Live Cricket Score, Stock updates from BSE and NSE, Bollywood{-truncated-}\n",
            "w3.org\n"
          ]
        }
      ]
    },
    {
      "cell_type": "raw",
      "metadata": {
        "id": "ALm929BNGdCq"
      },
      "source": [
        "\n",
        "\n",
        "\n",
        "\n",
        "\n",
        "\n",
        "\n",
        "\n",
        "\n",
        "\n",
        "\n"
      ]
    },
    {
      "cell_type": "markdown",
      "metadata": {
        "id": "EXnOFz2XGdCq"
      },
      "source": [
        "#### Q15 ide challenge\n"
      ]
    },
    {
      "cell_type": "code",
      "source": [
        "import re\n",
        "import sys\n",
        "\n",
        "pat = r'(/\\*.*?\\*/|//.*?$)'\n",
        "# txt = sys.stdin.read()\n",
        "txt = input()\n",
        "print(\"\\n\".join(re.sub('\\n\\s+', '\\n', comment) for comment in re.findall(pat, txt,re.DOTALL|re.MULTILINE)))"
      ],
      "metadata": {
        "colab": {
          "base_uri": "https://localhost:8080/"
        },
        "id": "czDJyBIJ3JSV",
        "outputId": "d255a0ea-7069-404b-d7cd-82457f4c18a8"
      },
      "execution_count": null,
      "outputs": [
        {
          "output_type": "stream",
          "name": "stdout",
          "text": [
            "for (V neighbor : super.neighbors(v1)){     if (!neighbor.visited ){ //if the neighbor is not visited before         if (isReachableHelper(neighbor, v2, path)) { //recursive call             return true; // we found a path!         }     } }\n",
            "//if the neighbor is not visited before         if (isReachableHelper(neighbor, v2, path)) { //recursive call             return true; // we found a path!         }     } }\n"
          ]
        }
      ]
    },
    {
      "cell_type": "markdown",
      "metadata": {
        "id": "jkIYkBcNGdCq"
      },
      "source": [
        "#### Q16 programming language detection problem\n"
      ]
    },
    {
      "cell_type": "code",
      "source": [
        "import re\n",
        "import sys\n",
        "\n",
        "src = ''.join(input())\n",
        "\n",
        "if 'java' in src:\n",
        "    print(\"Java\")\n",
        "elif '#include' in src:\n",
        "    print(\"C\")\n",
        "else:\n",
        "    print(\"Python\")"
      ],
      "metadata": {
        "colab": {
          "base_uri": "https://localhost:8080/"
        },
        "id": "PDppKsTD3wap",
        "outputId": "163ef317-0b36-48af-f0cc-977d6648ef0f"
      },
      "execution_count": null,
      "outputs": [
        {
          "output_type": "stream",
          "name": "stdout",
          "text": [
            "testString1 = \"Hello World!\" print \"Original String: \"+ testString1 # Print this string in lower case # Converting a string to lower case print \"Converting to LowerCase\" print testString1.lower() # Converting a string to upper case print \"Converting to Upper Case\" print testString1.upper() # Capitalizing a string # Only the first letter in the string will be capitalized{-truncated-}\n",
            "Python\n"
          ]
        }
      ]
    }
  ],
  "metadata": {
    "kernelspec": {
      "display_name": "Python 3",
      "language": "python",
      "name": "python3"
    },
    "language_info": {
      "codemirror_mode": {
        "name": "ipython",
        "version": 3
      },
      "file_extension": ".py",
      "mimetype": "text/x-python",
      "name": "python",
      "nbconvert_exporter": "python",
      "pygments_lexer": "ipython3",
      "version": "3.8.5"
    },
    "colab": {
      "name": "Regex Hackerrank Practice.ipynb",
      "provenance": [],
      "collapsed_sections": []
    }
  },
  "nbformat": 4,
  "nbformat_minor": 0
}